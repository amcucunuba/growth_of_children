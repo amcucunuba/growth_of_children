{
  "cells": [
    {
      "cell_type": "markdown",
      "metadata": {
        "id": "Wzd-yxmiGtUR"
      },
      "source": [
        "# Child Growth Data\n",
        "Source of data: https://www.kaggle.com/datasets/remcogeervliet/max-foundation-bangladesh-child-growth-data/data\n",
        "\n"
      ]
    },
    {
      "cell_type": "markdown",
      "metadata": {
        "id": "CL2bBFGNAW-V"
      },
      "source": [
        "# 1. Data Exploration"
      ]
    },
    {
      "cell_type": "markdown",
      "metadata": {
        "id": "8A0aUhE5HEdV"
      },
      "source": [
        "## 1.1) Import Libraries"
      ]
    },
    {
      "cell_type": "code",
      "execution_count": 1,
      "metadata": {
        "id": "u7ZnM5jk1n4o"
      },
      "outputs": [
        {
          "name": "stderr",
          "output_type": "stream",
          "text": [
            "c:\\Users\\Andres\\Python\\Python310\\lib\\site-packages\\tqdm\\auto.py:21: TqdmWarning: IProgress not found. Please update jupyter and ipywidgets. See https://ipywidgets.readthedocs.io/en/stable/user_install.html\n",
            "  from .autonotebook import tqdm as notebook_tqdm\n"
          ]
        }
      ],
      "source": [
        "import pandas as pd\n",
        "import numpy as np\n",
        "import kagglehub\n",
        "import math\n",
        "\n",
        "import seaborn as sns\n",
        "import matplotlib.pyplot as plt\n",
        "import plotly.express as px\n",
        "\n",
        "import datetime as dt\n",
        "from datetime import datetime\n",
        "\n",
        "import statsmodels.formula.api as smf\n",
        "from sklearn.model_selection import train_test_split\n",
        "from sklearn.preprocessing import StandardScaler\n",
        "from sklearn.preprocessing import OrdinalEncoder\n",
        "\n",
        "\n",
        "from sklearn.neighbors import KNeighborsRegressor\n",
        "from sklearn.metrics import mean_squared_error, r2_score"
      ]
    },
    {
      "cell_type": "markdown",
      "metadata": {
        "id": "xEWx5VIsAjJF"
      },
      "source": [
        "## 1.2) Load Data from kagle"
      ]
    },
    {
      "cell_type": "code",
      "execution_count": 2,
      "metadata": {},
      "outputs": [
        {
          "name": "stdout",
          "output_type": "stream",
          "text": [
            "Requirement already satisfied: kagglehub in c:\\users\\andres\\python\\python310\\lib\\site-packages (0.3.6)\n",
            "Requirement already satisfied: packaging in c:\\users\\andres\\python\\python310\\lib\\site-packages (from kagglehub) (24.2)\n",
            "Requirement already satisfied: requests in c:\\users\\andres\\python\\python310\\lib\\site-packages (from kagglehub) (2.32.3)\n",
            "Requirement already satisfied: tqdm in c:\\users\\andres\\python\\python310\\lib\\site-packages (from kagglehub) (4.67.1)\n",
            "Requirement already satisfied: charset-normalizer<4,>=2 in c:\\users\\andres\\python\\python310\\lib\\site-packages (from requests->kagglehub) (3.4.0)\n",
            "Requirement already satisfied: idna<4,>=2.5 in c:\\users\\andres\\python\\python310\\lib\\site-packages (from requests->kagglehub) (3.10)\n",
            "Requirement already satisfied: urllib3<3,>=1.21.1 in c:\\users\\andres\\python\\python310\\lib\\site-packages (from requests->kagglehub) (2.2.3)\n",
            "Requirement already satisfied: certifi>=2017.4.17 in c:\\users\\andres\\python\\python310\\lib\\site-packages (from requests->kagglehub) (2024.8.30)\n",
            "Requirement already satisfied: colorama in c:\\users\\andres\\python\\python310\\lib\\site-packages (from tqdm->kagglehub) (0.4.6)\n"
          ]
        },
        {
          "name": "stderr",
          "output_type": "stream",
          "text": [
            "\n",
            "[notice] A new release of pip is available: 24.0 -> 24.3.1\n",
            "[notice] To update, run: python.exe -m pip install --upgrade pip\n"
          ]
        }
      ],
      "source": [
        "! pip install kagglehub\n"
      ]
    },
    {
      "cell_type": "code",
      "execution_count": 3,
      "metadata": {
        "colab": {
          "base_uri": "https://localhost:8080/"
        },
        "id": "60JyhPyW1rfl",
        "outputId": "1dccb575-fb98-4e4b-a182-dfe016d36aad"
      },
      "outputs": [],
      "source": [
        "# Import the data\n",
        "data = kagglehub.dataset_download(\"remcogeervliet/max-foundation-bangladesh-child-growth-data\")"
      ]
    },
    {
      "cell_type": "code",
      "execution_count": 4,
      "metadata": {
        "colab": {
          "base_uri": "https://localhost:8080/",
          "height": 359
        },
        "collapsed": true,
        "id": "ovt1YaIQ5MGl",
        "outputId": "1ad4dc2a-70d8-4194-b3ae-bfbbb6870c73"
      },
      "outputs": [
        {
          "name": "stdout",
          "output_type": "stream",
          "text": [
            "<class 'pandas.core.frame.DataFrame'>\n",
            "RangeIndex: 486267 entries, 0 to 486266\n",
            "Data columns (total 29 columns):\n",
            " #   Column                   Non-Null Count   Dtype  \n",
            "---  ------                   --------------   -----  \n",
            " 0   Unnamed: 0               486267 non-null  int64  \n",
            " 1   district                 486267 non-null  object \n",
            " 2   upazila                  486267 non-null  int64  \n",
            " 3   union                    486267 non-null  int64  \n",
            " 4   village                  486267 non-null  int64  \n",
            " 5   hh_id                    486267 non-null  int64  \n",
            " 6   child_id                 486267 non-null  int64  \n",
            " 7   date                     486267 non-null  object \n",
            " 8   gender                   486267 non-null  object \n",
            " 9   dob                      485472 non-null  object \n",
            " 10  height                   483203 non-null  float64\n",
            " 11  weight                   483203 non-null  float64\n",
            " 12  cbmi                     482383 non-null  float64\n",
            " 13  zlen                     475081 non-null  float64\n",
            " 14  flen                     475081 non-null  float64\n",
            " 15  zwei                     475081 non-null  float64\n",
            " 16  fwei                     475081 non-null  float64\n",
            " 17  zwfl                     465144 non-null  float64\n",
            " 18  fwfl                     465144 non-null  float64\n",
            " 19  zbmi                     475081 non-null  float64\n",
            " 20  fbmi                     475081 non-null  float64\n",
            " 21  flag_duplicated_day      486267 non-null  int64  \n",
            " 22  flag_duplicated_quarter  486267 non-null  int64  \n",
            " 23  flag_obs_number          486267 non-null  int64  \n",
            " 24  flag_different_dob       486267 non-null  int64  \n",
            " 25  flag_dob_number          485472 non-null  float64\n",
            " 26  flag_under_zero          486267 non-null  int64  \n",
            " 27  flag_no_match            486267 non-null  int64  \n",
            " 28  flag_flip                486267 non-null  int64  \n",
            "dtypes: float64(12), int64(13), object(4)\n",
            "memory usage: 107.6+ MB\n",
            "None\n"
          ]
        }
      ],
      "source": [
        "# Lire le fichier avec l'encodage détecté\n",
        "data = pd.read_csv(data + '\\\\BD_growth_prog_anon.csv')\n",
        "print(data.info())"
      ]
    },
    {
      "cell_type": "markdown",
      "metadata": {
        "id": "OPmtir2sFkDI"
      },
      "source": [
        "### 1.2.1) Compress Data\n",
        "Let's compress the dataframe by lowering its numeric dtypes\n",
        "* from float64 to float32\n",
        "* from int64 to int8"
      ]
    },
    {
      "cell_type": "code",
      "execution_count": 5,
      "metadata": {
        "id": "l0u-rio_Fiix"
      },
      "outputs": [],
      "source": [
        "def compress(df, **kwargs):\n",
        "    \"\"\"\n",
        "    Reduces the size of the DataFrame by downcasting numerical columns\n",
        "    \"\"\"\n",
        "    input_size = df.memory_usage(index=True).sum()/ 1024**2\n",
        "    print(\"old dataframe size: \", round(input_size,2), 'MB')\n",
        "\n",
        "    in_size = df.memory_usage(index=True).sum()\n",
        "\n",
        "    for t in [\"float\", \"integer\"]:\n",
        "        l_cols = list(df.select_dtypes(include=t))\n",
        "\n",
        "        for col in l_cols:\n",
        "            df[col] = pd.to_numeric(df[col], downcast=t)\n",
        "\n",
        "    out_size = df.memory_usage(index=True).sum()\n",
        "    ratio = (1 - round(out_size / in_size, 2)) * 100\n",
        "\n",
        "    print(\"optimized size by {} %\".format(round(ratio,2)))\n",
        "    print(\"new DataFrame size: \", round(out_size / 1024**2,2), \" MB\")\n",
        "\n",
        "    return df"
      ]
    },
    {
      "cell_type": "code",
      "execution_count": 6,
      "metadata": {
        "colab": {
          "base_uri": "https://localhost:8080/",
          "height": 217
        },
        "id": "w8Y7ec5DGBxs",
        "outputId": "8ace785e-e014-43ac-f45b-3741afa0cc05"
      },
      "outputs": [
        {
          "name": "stdout",
          "output_type": "stream",
          "text": [
            "old dataframe size:  107.59 MB\n",
            "optimized size by 50.0 %\n",
            "new DataFrame size:  53.33  MB\n"
          ]
        },
        {
          "data": {
            "text/html": [
              "<div>\n",
              "<style scoped>\n",
              "    .dataframe tbody tr th:only-of-type {\n",
              "        vertical-align: middle;\n",
              "    }\n",
              "\n",
              "    .dataframe tbody tr th {\n",
              "        vertical-align: top;\n",
              "    }\n",
              "\n",
              "    .dataframe thead th {\n",
              "        text-align: right;\n",
              "    }\n",
              "</style>\n",
              "<table border=\"1\" class=\"dataframe\">\n",
              "  <thead>\n",
              "    <tr style=\"text-align: right;\">\n",
              "      <th></th>\n",
              "      <th>Unnamed: 0</th>\n",
              "      <th>district</th>\n",
              "      <th>upazila</th>\n",
              "      <th>union</th>\n",
              "      <th>village</th>\n",
              "      <th>hh_id</th>\n",
              "      <th>child_id</th>\n",
              "      <th>date</th>\n",
              "      <th>gender</th>\n",
              "      <th>dob</th>\n",
              "      <th>...</th>\n",
              "      <th>zbmi</th>\n",
              "      <th>fbmi</th>\n",
              "      <th>flag_duplicated_day</th>\n",
              "      <th>flag_duplicated_quarter</th>\n",
              "      <th>flag_obs_number</th>\n",
              "      <th>flag_different_dob</th>\n",
              "      <th>flag_dob_number</th>\n",
              "      <th>flag_under_zero</th>\n",
              "      <th>flag_no_match</th>\n",
              "      <th>flag_flip</th>\n",
              "    </tr>\n",
              "  </thead>\n",
              "  <tbody>\n",
              "    <tr>\n",
              "      <th>0</th>\n",
              "      <td>1</td>\n",
              "      <td>Patuakhali</td>\n",
              "      <td>7895</td>\n",
              "      <td>789531</td>\n",
              "      <td>961</td>\n",
              "      <td>181000001</td>\n",
              "      <td>181000001</td>\n",
              "      <td>2021-04-01</td>\n",
              "      <td>M</td>\n",
              "      <td>2014-01-01</td>\n",
              "      <td>...</td>\n",
              "      <td>NaN</td>\n",
              "      <td>NaN</td>\n",
              "      <td>0</td>\n",
              "      <td>0</td>\n",
              "      <td>1</td>\n",
              "      <td>0</td>\n",
              "      <td>1.0</td>\n",
              "      <td>0</td>\n",
              "      <td>0</td>\n",
              "      <td>0</td>\n",
              "    </tr>\n",
              "  </tbody>\n",
              "</table>\n",
              "<p>1 rows × 29 columns</p>\n",
              "</div>"
            ],
            "text/plain": [
              "   Unnamed: 0    district  upazila   union  village      hh_id   child_id  \\\n",
              "0           1  Patuakhali     7895  789531      961  181000001  181000001   \n",
              "\n",
              "         date gender         dob  ...  zbmi  fbmi  flag_duplicated_day  \\\n",
              "0  2021-04-01      M  2014-01-01  ...   NaN   NaN                    0   \n",
              "\n",
              "   flag_duplicated_quarter  flag_obs_number  flag_different_dob  \\\n",
              "0                        0                1                   0   \n",
              "\n",
              "   flag_dob_number  flag_under_zero  flag_no_match  flag_flip  \n",
              "0              1.0                0              0          0  \n",
              "\n",
              "[1 rows x 29 columns]"
            ]
          },
          "execution_count": 6,
          "metadata": {},
          "output_type": "execute_result"
        }
      ],
      "source": [
        "data= compress(data, verbose=True)\n",
        "data.head(1)"
      ]
    },
    {
      "cell_type": "markdown",
      "metadata": {
        "id": "a8aAwR3FFC-A"
      },
      "source": [
        "## 1.3) Clean Data. Exploratory Data Analysis\n"
      ]
    },
    {
      "cell_type": "code",
      "execution_count": 7,
      "metadata": {
        "colab": {
          "base_uri": "https://localhost:8080/",
          "height": 349
        },
        "id": "nr5hC5rE0Kyh",
        "outputId": "d0ca2123-4dc1-4bbb-ffeb-16bb08c88439"
      },
      "outputs": [
        {
          "name": "stderr",
          "output_type": "stream",
          "text": [
            "c:\\Users\\Andres\\Python\\Python310\\lib\\site-packages\\pandas\\core\\nanops.py:1016: RuntimeWarning: invalid value encountered in subtract\n",
            "  sqr = _ensure_numeric((avg - values) ** 2)\n",
            "c:\\Users\\Andres\\Python\\Python310\\lib\\site-packages\\pandas\\core\\nanops.py:1016: RuntimeWarning: invalid value encountered in subtract\n",
            "  sqr = _ensure_numeric((avg - values) ** 2)\n"
          ]
        },
        {
          "data": {
            "text/html": [
              "<div>\n",
              "<style scoped>\n",
              "    .dataframe tbody tr th:only-of-type {\n",
              "        vertical-align: middle;\n",
              "    }\n",
              "\n",
              "    .dataframe tbody tr th {\n",
              "        vertical-align: top;\n",
              "    }\n",
              "\n",
              "    .dataframe thead th {\n",
              "        text-align: right;\n",
              "    }\n",
              "</style>\n",
              "<table border=\"1\" class=\"dataframe\">\n",
              "  <thead>\n",
              "    <tr style=\"text-align: right;\">\n",
              "      <th></th>\n",
              "      <th>Unnamed: 0</th>\n",
              "      <th>upazila</th>\n",
              "      <th>union</th>\n",
              "      <th>village</th>\n",
              "      <th>hh_id</th>\n",
              "      <th>child_id</th>\n",
              "      <th>height</th>\n",
              "      <th>weight</th>\n",
              "      <th>cbmi</th>\n",
              "      <th>zlen</th>\n",
              "      <th>...</th>\n",
              "      <th>zbmi</th>\n",
              "      <th>fbmi</th>\n",
              "      <th>flag_duplicated_day</th>\n",
              "      <th>flag_duplicated_quarter</th>\n",
              "      <th>flag_obs_number</th>\n",
              "      <th>flag_different_dob</th>\n",
              "      <th>flag_dob_number</th>\n",
              "      <th>flag_under_zero</th>\n",
              "      <th>flag_no_match</th>\n",
              "      <th>flag_flip</th>\n",
              "    </tr>\n",
              "  </thead>\n",
              "  <tbody>\n",
              "    <tr>\n",
              "      <th>count</th>\n",
              "      <td>486267.000000</td>\n",
              "      <td>486267.000000</td>\n",
              "      <td>486267.000000</td>\n",
              "      <td>486267.000000</td>\n",
              "      <td>4.862670e+05</td>\n",
              "      <td>4.862670e+05</td>\n",
              "      <td>483203.000000</td>\n",
              "      <td>483203.000000</td>\n",
              "      <td>482383.0</td>\n",
              "      <td>475081.000000</td>\n",
              "      <td>...</td>\n",
              "      <td>475081.0</td>\n",
              "      <td>475081.000000</td>\n",
              "      <td>486267.000000</td>\n",
              "      <td>486267.000000</td>\n",
              "      <td>486267.000000</td>\n",
              "      <td>486267.000000</td>\n",
              "      <td>485472.000000</td>\n",
              "      <td>486267.000000</td>\n",
              "      <td>486267.000000</td>\n",
              "      <td>486267.000000</td>\n",
              "    </tr>\n",
              "    <tr>\n",
              "      <th>mean</th>\n",
              "      <td>243134.000000</td>\n",
              "      <td>6541.031781</td>\n",
              "      <td>654151.522571</td>\n",
              "      <td>839.266078</td>\n",
              "      <td>1.901757e+08</td>\n",
              "      <td>1.914057e+08</td>\n",
              "      <td>84.067986</td>\n",
              "      <td>11.823614</td>\n",
              "      <td>inf</td>\n",
              "      <td>-1.982482</td>\n",
              "      <td>...</td>\n",
              "      <td>inf</td>\n",
              "      <td>0.050692</td>\n",
              "      <td>0.028365</td>\n",
              "      <td>0.553751</td>\n",
              "      <td>1.487068</td>\n",
              "      <td>0.001551</td>\n",
              "      <td>1.000777</td>\n",
              "      <td>0.000012</td>\n",
              "      <td>0.001635</td>\n",
              "      <td>0.003029</td>\n",
              "    </tr>\n",
              "    <tr>\n",
              "      <th>std</th>\n",
              "      <td>140373.336012</td>\n",
              "      <td>2358.514712</td>\n",
              "      <td>235848.203809</td>\n",
              "      <td>495.438185</td>\n",
              "      <td>7.670967e+06</td>\n",
              "      <td>8.244706e+06</td>\n",
              "      <td>148.992981</td>\n",
              "      <td>47.308174</td>\n",
              "      <td>NaN</td>\n",
              "      <td>42.713688</td>\n",
              "      <td>...</td>\n",
              "      <td>NaN</td>\n",
              "      <td>0.219369</td>\n",
              "      <td>0.166014</td>\n",
              "      <td>0.497103</td>\n",
              "      <td>0.803718</td>\n",
              "      <td>0.039347</td>\n",
              "      <td>0.027856</td>\n",
              "      <td>0.003513</td>\n",
              "      <td>0.040401</td>\n",
              "      <td>0.054955</td>\n",
              "    </tr>\n",
              "    <tr>\n",
              "      <th>min</th>\n",
              "      <td>1.000000</td>\n",
              "      <td>409.000000</td>\n",
              "      <td>40923.000000</td>\n",
              "      <td>1.000000</td>\n",
              "      <td>1.810000e+08</td>\n",
              "      <td>1.810000e+08</td>\n",
              "      <td>0.000000</td>\n",
              "      <td>0.000000</td>\n",
              "      <td>0.0</td>\n",
              "      <td>-31.799999</td>\n",
              "      <td>...</td>\n",
              "      <td>-16.9</td>\n",
              "      <td>0.000000</td>\n",
              "      <td>0.000000</td>\n",
              "      <td>0.000000</td>\n",
              "      <td>1.000000</td>\n",
              "      <td>0.000000</td>\n",
              "      <td>1.000000</td>\n",
              "      <td>0.000000</td>\n",
              "      <td>0.000000</td>\n",
              "      <td>0.000000</td>\n",
              "    </tr>\n",
              "    <tr>\n",
              "      <th>25%</th>\n",
              "      <td>121567.500000</td>\n",
              "      <td>4730.000000</td>\n",
              "      <td>473033.000000</td>\n",
              "      <td>397.000000</td>\n",
              "      <td>1.840110e+08</td>\n",
              "      <td>1.840163e+08</td>\n",
              "      <td>74.000000</td>\n",
              "      <td>9.000000</td>\n",
              "      <td>14.4</td>\n",
              "      <td>-3.500000</td>\n",
              "      <td>...</td>\n",
              "      <td>-0.9</td>\n",
              "      <td>0.000000</td>\n",
              "      <td>0.000000</td>\n",
              "      <td>0.000000</td>\n",
              "      <td>1.000000</td>\n",
              "      <td>0.000000</td>\n",
              "      <td>1.000000</td>\n",
              "      <td>0.000000</td>\n",
              "      <td>0.000000</td>\n",
              "      <td>0.000000</td>\n",
              "    </tr>\n",
              "    <tr>\n",
              "      <th>50%</th>\n",
              "      <td>243134.000000</td>\n",
              "      <td>7857.000000</td>\n",
              "      <td>785767.000000</td>\n",
              "      <td>837.000000</td>\n",
              "      <td>1.910012e+08</td>\n",
              "      <td>1.910060e+08</td>\n",
              "      <td>84.000000</td>\n",
              "      <td>11.000000</td>\n",
              "      <td>15.7</td>\n",
              "      <td>-1.700000</td>\n",
              "      <td>...</td>\n",
              "      <td>0.0</td>\n",
              "      <td>0.000000</td>\n",
              "      <td>0.000000</td>\n",
              "      <td>1.000000</td>\n",
              "      <td>1.000000</td>\n",
              "      <td>0.000000</td>\n",
              "      <td>1.000000</td>\n",
              "      <td>0.000000</td>\n",
              "      <td>0.000000</td>\n",
              "      <td>0.000000</td>\n",
              "    </tr>\n",
              "    <tr>\n",
              "      <th>75%</th>\n",
              "      <td>364700.500000</td>\n",
              "      <td>7897.000000</td>\n",
              "      <td>789734.000000</td>\n",
              "      <td>1279.000000</td>\n",
              "      <td>1.940007e+08</td>\n",
              "      <td>1.940043e+08</td>\n",
              "      <td>94.000000</td>\n",
              "      <td>14.000000</td>\n",
              "      <td>17.8</td>\n",
              "      <td>-0.600000</td>\n",
              "      <td>...</td>\n",
              "      <td>1.4</td>\n",
              "      <td>0.000000</td>\n",
              "      <td>0.000000</td>\n",
              "      <td>1.000000</td>\n",
              "      <td>2.000000</td>\n",
              "      <td>0.000000</td>\n",
              "      <td>1.000000</td>\n",
              "      <td>0.000000</td>\n",
              "      <td>0.000000</td>\n",
              "      <td>0.000000</td>\n",
              "    </tr>\n",
              "    <tr>\n",
              "      <th>max</th>\n",
              "      <td>486267.000000</td>\n",
              "      <td>8790.000000</td>\n",
              "      <td>879079.000000</td>\n",
              "      <td>1674.000000</td>\n",
              "      <td>2.180000e+08</td>\n",
              "      <td>2.180000e+08</td>\n",
              "      <td>97100.000000</td>\n",
              "      <td>14799.000000</td>\n",
              "      <td>inf</td>\n",
              "      <td>27587.500000</td>\n",
              "      <td>...</td>\n",
              "      <td>inf</td>\n",
              "      <td>1.000000</td>\n",
              "      <td>1.000000</td>\n",
              "      <td>1.000000</td>\n",
              "      <td>14.000000</td>\n",
              "      <td>1.000000</td>\n",
              "      <td>2.000000</td>\n",
              "      <td>1.000000</td>\n",
              "      <td>1.000000</td>\n",
              "      <td>1.000000</td>\n",
              "    </tr>\n",
              "  </tbody>\n",
              "</table>\n",
              "<p>8 rows × 25 columns</p>\n",
              "</div>"
            ],
            "text/plain": [
              "          Unnamed: 0        upazila          union        village  \\\n",
              "count  486267.000000  486267.000000  486267.000000  486267.000000   \n",
              "mean   243134.000000    6541.031781  654151.522571     839.266078   \n",
              "std    140373.336012    2358.514712  235848.203809     495.438185   \n",
              "min         1.000000     409.000000   40923.000000       1.000000   \n",
              "25%    121567.500000    4730.000000  473033.000000     397.000000   \n",
              "50%    243134.000000    7857.000000  785767.000000     837.000000   \n",
              "75%    364700.500000    7897.000000  789734.000000    1279.000000   \n",
              "max    486267.000000    8790.000000  879079.000000    1674.000000   \n",
              "\n",
              "              hh_id      child_id         height         weight      cbmi  \\\n",
              "count  4.862670e+05  4.862670e+05  483203.000000  483203.000000  482383.0   \n",
              "mean   1.901757e+08  1.914057e+08      84.067986      11.823614       inf   \n",
              "std    7.670967e+06  8.244706e+06     148.992981      47.308174       NaN   \n",
              "min    1.810000e+08  1.810000e+08       0.000000       0.000000       0.0   \n",
              "25%    1.840110e+08  1.840163e+08      74.000000       9.000000      14.4   \n",
              "50%    1.910012e+08  1.910060e+08      84.000000      11.000000      15.7   \n",
              "75%    1.940007e+08  1.940043e+08      94.000000      14.000000      17.8   \n",
              "max    2.180000e+08  2.180000e+08   97100.000000   14799.000000       inf   \n",
              "\n",
              "                zlen  ...      zbmi           fbmi  flag_duplicated_day  \\\n",
              "count  475081.000000  ...  475081.0  475081.000000        486267.000000   \n",
              "mean       -1.982482  ...       inf       0.050692             0.028365   \n",
              "std        42.713688  ...       NaN       0.219369             0.166014   \n",
              "min       -31.799999  ...     -16.9       0.000000             0.000000   \n",
              "25%        -3.500000  ...      -0.9       0.000000             0.000000   \n",
              "50%        -1.700000  ...       0.0       0.000000             0.000000   \n",
              "75%        -0.600000  ...       1.4       0.000000             0.000000   \n",
              "max     27587.500000  ...       inf       1.000000             1.000000   \n",
              "\n",
              "       flag_duplicated_quarter  flag_obs_number  flag_different_dob  \\\n",
              "count            486267.000000    486267.000000       486267.000000   \n",
              "mean                  0.553751         1.487068            0.001551   \n",
              "std                   0.497103         0.803718            0.039347   \n",
              "min                   0.000000         1.000000            0.000000   \n",
              "25%                   0.000000         1.000000            0.000000   \n",
              "50%                   1.000000         1.000000            0.000000   \n",
              "75%                   1.000000         2.000000            0.000000   \n",
              "max                   1.000000        14.000000            1.000000   \n",
              "\n",
              "       flag_dob_number  flag_under_zero  flag_no_match      flag_flip  \n",
              "count    485472.000000    486267.000000  486267.000000  486267.000000  \n",
              "mean          1.000777         0.000012       0.001635       0.003029  \n",
              "std           0.027856         0.003513       0.040401       0.054955  \n",
              "min           1.000000         0.000000       0.000000       0.000000  \n",
              "25%           1.000000         0.000000       0.000000       0.000000  \n",
              "50%           1.000000         0.000000       0.000000       0.000000  \n",
              "75%           1.000000         0.000000       0.000000       0.000000  \n",
              "max           2.000000         1.000000       1.000000       1.000000  \n",
              "\n",
              "[8 rows x 25 columns]"
            ]
          },
          "execution_count": 7,
          "metadata": {},
          "output_type": "execute_result"
        }
      ],
      "source": [
        "data.describe()"
      ]
    },
    {
      "cell_type": "markdown",
      "metadata": {
        "id": "PD230F1HHan7"
      },
      "source": [
        "**Profiling alerts for the presence of 4 potential data quality problems:**\n",
        "* **IMBALANCE**: flen, fwei, fwfl, fbmi,\n",
        "flag_duplicated_day, flag_different_dob, flag_dob_numbe, flag_under_zero, flag_no_match, flag_flip\n",
        "* **MISSING**: zlen, flen, zwei, fwei, zwfl, fwfl, zbmi, fbmi,\n",
        "* **SKEWED**: height, weight, zlen, zwei.\n",
        "* **ZEROS**: zlen, zwei, zwfl, zbmi."
      ]
    },
    {
      "cell_type": "code",
      "execution_count": 8,
      "metadata": {},
      "outputs": [],
      "source": [
        "data = data[['district','upazila','union','village','hh_id','child_id','date','gender','dob','height','weight','cbmi','zlen','flen','zwei','fwei','zwfl','fwfl','zbmi','fbmi']]"
      ]
    },
    {
      "cell_type": "markdown",
      "metadata": {
        "id": "rjfQ5oKsKGyN"
      },
      "source": [
        "**Removing Duplicate**\n"
      ]
    },
    {
      "cell_type": "code",
      "execution_count": 9,
      "metadata": {
        "colab": {
          "base_uri": "https://localhost:8080/"
        },
        "id": "XUXcNxdQx0tn",
        "outputId": "9aca1227-b5a0-4b81-c655-5083b33ec6ff"
      },
      "outputs": [
        {
          "data": {
            "text/plain": [
              "np.int64(707)"
            ]
          },
          "execution_count": 9,
          "metadata": {},
          "output_type": "execute_result"
        }
      ],
      "source": [
        "data.duplicated().sum()"
      ]
    },
    {
      "cell_type": "markdown",
      "metadata": {},
      "source": [
        "**Missing Data**"
      ]
    },
    {
      "cell_type": "code",
      "execution_count": 10,
      "metadata": {},
      "outputs": [
        {
          "data": {
            "text/plain": [
              "fwfl        4.343910\n",
              "zwfl        4.343910\n",
              "zbmi        2.300382\n",
              "fbmi        2.300382\n",
              "flen        2.300382\n",
              "zlen        2.300382\n",
              "zwei        2.300382\n",
              "fwei        2.300382\n",
              "cbmi        0.798738\n",
              "height      0.630107\n",
              "weight      0.630107\n",
              "dob         0.163490\n",
              "village     0.000000\n",
              "union       0.000000\n",
              "upazila     0.000000\n",
              "district    0.000000\n",
              "hh_id       0.000000\n",
              "child_id    0.000000\n",
              "date        0.000000\n",
              "gender      0.000000\n",
              "dtype: float64"
            ]
          },
          "execution_count": 10,
          "metadata": {},
          "output_type": "execute_result"
        }
      ],
      "source": [
        "data.isna().sum().sort_values(ascending=False)/len(data) * 100"
      ]
    },
    {
      "cell_type": "markdown",
      "metadata": {
        "id": "O5C5m996KRRm"
      },
      "source": [
        "**Adjust the data implement WHO guidelines** \\\n",
        "This eliminates the zeros the null data and adjusts the imbalance \\\n",
        "I chose to delete NaN data because it is less than 1 percent of the data \\\n",
        "Check zeros in columns"
      ]
    },
    {
      "cell_type": "code",
      "execution_count": 11,
      "metadata": {
        "colab": {
          "base_uri": "https://localhost:8080/",
          "height": 359
        },
        "collapsed": true,
        "id": "AgZ--MX3Pxiq",
        "outputId": "a9d5ebdc-6daa-4af0-9737-eb98a4eca9f8"
      },
      "outputs": [
        {
          "data": {
            "text/html": [
              "<div>\n",
              "<style scoped>\n",
              "    .dataframe tbody tr th:only-of-type {\n",
              "        vertical-align: middle;\n",
              "    }\n",
              "\n",
              "    .dataframe tbody tr th {\n",
              "        vertical-align: top;\n",
              "    }\n",
              "\n",
              "    .dataframe thead th {\n",
              "        text-align: right;\n",
              "    }\n",
              "</style>\n",
              "<table border=\"1\" class=\"dataframe\">\n",
              "  <thead>\n",
              "    <tr style=\"text-align: right;\">\n",
              "      <th></th>\n",
              "      <th>district</th>\n",
              "      <th>upazila</th>\n",
              "      <th>union</th>\n",
              "      <th>village</th>\n",
              "      <th>hh_id</th>\n",
              "      <th>child_id</th>\n",
              "      <th>date</th>\n",
              "      <th>gender</th>\n",
              "      <th>dob</th>\n",
              "      <th>height</th>\n",
              "      <th>weight</th>\n",
              "      <th>cbmi</th>\n",
              "      <th>zlen</th>\n",
              "      <th>flen</th>\n",
              "      <th>zwei</th>\n",
              "      <th>fwei</th>\n",
              "      <th>zwfl</th>\n",
              "      <th>fwfl</th>\n",
              "      <th>zbmi</th>\n",
              "      <th>fbmi</th>\n",
              "    </tr>\n",
              "  </thead>\n",
              "  <tbody>\n",
              "    <tr>\n",
              "      <th>2</th>\n",
              "      <td>Patuakhali</td>\n",
              "      <td>7857</td>\n",
              "      <td>785737</td>\n",
              "      <td>1659</td>\n",
              "      <td>181000002</td>\n",
              "      <td>181000002</td>\n",
              "      <td>2019-10-01</td>\n",
              "      <td>M</td>\n",
              "      <td>2018-01-01</td>\n",
              "      <td>71.0</td>\n",
              "      <td>12.0</td>\n",
              "      <td>21.7</td>\n",
              "      <td>-4.6</td>\n",
              "      <td>0.0</td>\n",
              "      <td>-0.2</td>\n",
              "      <td>0.0</td>\n",
              "      <td>2.8</td>\n",
              "      <td>0.0</td>\n",
              "      <td>3.7</td>\n",
              "      <td>0.0</td>\n",
              "    </tr>\n",
              "    <tr>\n",
              "      <th>3</th>\n",
              "      <td>Patuakhali</td>\n",
              "      <td>7857</td>\n",
              "      <td>785737</td>\n",
              "      <td>1659</td>\n",
              "      <td>181000002</td>\n",
              "      <td>181000002</td>\n",
              "      <td>2019-10-01</td>\n",
              "      <td>M</td>\n",
              "      <td>2018-01-01</td>\n",
              "      <td>74.0</td>\n",
              "      <td>11.0</td>\n",
              "      <td>22.5</td>\n",
              "      <td>-4.3</td>\n",
              "      <td>0.0</td>\n",
              "      <td>0.2</td>\n",
              "      <td>0.0</td>\n",
              "      <td>3.2</td>\n",
              "      <td>0.0</td>\n",
              "      <td>4.2</td>\n",
              "      <td>0.0</td>\n",
              "    </tr>\n",
              "    <tr>\n",
              "      <th>4</th>\n",
              "      <td>Patuakhali</td>\n",
              "      <td>7857</td>\n",
              "      <td>785737</td>\n",
              "      <td>1659</td>\n",
              "      <td>181000002</td>\n",
              "      <td>181000002</td>\n",
              "      <td>2020-01-01</td>\n",
              "      <td>M</td>\n",
              "      <td>2018-01-01</td>\n",
              "      <td>75.0</td>\n",
              "      <td>12.0</td>\n",
              "      <td>22.2</td>\n",
              "      <td>-4.2</td>\n",
              "      <td>0.0</td>\n",
              "      <td>0.2</td>\n",
              "      <td>0.0</td>\n",
              "      <td>3.1</td>\n",
              "      <td>0.0</td>\n",
              "      <td>4.1</td>\n",
              "      <td>0.0</td>\n",
              "    </tr>\n",
              "    <tr>\n",
              "      <th>5</th>\n",
              "      <td>Patuakhali</td>\n",
              "      <td>7857</td>\n",
              "      <td>785737</td>\n",
              "      <td>1659</td>\n",
              "      <td>181000002</td>\n",
              "      <td>181000002</td>\n",
              "      <td>2020-01-01</td>\n",
              "      <td>M</td>\n",
              "      <td>2018-01-01</td>\n",
              "      <td>76.0</td>\n",
              "      <td>12.0</td>\n",
              "      <td>21.6</td>\n",
              "      <td>-4.0</td>\n",
              "      <td>0.0</td>\n",
              "      <td>0.1</td>\n",
              "      <td>0.0</td>\n",
              "      <td>2.8</td>\n",
              "      <td>0.0</td>\n",
              "      <td>3.8</td>\n",
              "      <td>0.0</td>\n",
              "    </tr>\n",
              "    <tr>\n",
              "      <th>6</th>\n",
              "      <td>Patuakhali</td>\n",
              "      <td>7857</td>\n",
              "      <td>785737</td>\n",
              "      <td>1659</td>\n",
              "      <td>181000002</td>\n",
              "      <td>181000002</td>\n",
              "      <td>2020-07-01</td>\n",
              "      <td>M</td>\n",
              "      <td>2018-01-01</td>\n",
              "      <td>79.0</td>\n",
              "      <td>13.0</td>\n",
              "      <td>20.3</td>\n",
              "      <td>-3.8</td>\n",
              "      <td>0.0</td>\n",
              "      <td>-0.4</td>\n",
              "      <td>0.0</td>\n",
              "      <td>2.3</td>\n",
              "      <td>0.0</td>\n",
              "      <td>3.0</td>\n",
              "      <td>0.0</td>\n",
              "    </tr>\n",
              "  </tbody>\n",
              "</table>\n",
              "</div>"
            ],
            "text/plain": [
              "     district  upazila   union  village      hh_id   child_id        date  \\\n",
              "2  Patuakhali     7857  785737     1659  181000002  181000002  2019-10-01   \n",
              "3  Patuakhali     7857  785737     1659  181000002  181000002  2019-10-01   \n",
              "4  Patuakhali     7857  785737     1659  181000002  181000002  2020-01-01   \n",
              "5  Patuakhali     7857  785737     1659  181000002  181000002  2020-01-01   \n",
              "6  Patuakhali     7857  785737     1659  181000002  181000002  2020-07-01   \n",
              "\n",
              "  gender         dob  height  weight  cbmi  zlen  flen  zwei  fwei  zwfl  \\\n",
              "2      M  2018-01-01    71.0    12.0  21.7  -4.6   0.0  -0.2   0.0   2.8   \n",
              "3      M  2018-01-01    74.0    11.0  22.5  -4.3   0.0   0.2   0.0   3.2   \n",
              "4      M  2018-01-01    75.0    12.0  22.2  -4.2   0.0   0.2   0.0   3.1   \n",
              "5      M  2018-01-01    76.0    12.0  21.6  -4.0   0.0   0.1   0.0   2.8   \n",
              "6      M  2018-01-01    79.0    13.0  20.3  -3.8   0.0  -0.4   0.0   2.3   \n",
              "\n",
              "   fwfl  zbmi  fbmi  \n",
              "2   0.0   3.7   0.0  \n",
              "3   0.0   4.2   0.0  \n",
              "4   0.0   4.1   0.0  \n",
              "5   0.0   3.8   0.0  \n",
              "6   0.0   3.0   0.0  "
            ]
          },
          "execution_count": 11,
          "metadata": {},
          "output_type": "execute_result"
        }
      ],
      "source": [
        "# Values outside the biologically possible ranges according Anthro WHO\n",
        "df_transformed = data[\n",
        "    (data['zlen'].between(-6, 6)) &\n",
        "    (data['zwei'].between(-6, 6)) &\n",
        "    (data['zwfl'].between(-5, 5)) &\n",
        "    (data['zbmi'].between(-5, 5))\n",
        "]\n",
        "df_transformed.head()"
      ]
    },
    {
      "cell_type": "code",
      "execution_count": 12,
      "metadata": {},
      "outputs": [
        {
          "data": {
            "text/plain": [
              "district    0\n",
              "upazila     0\n",
              "union       0\n",
              "village     0\n",
              "hh_id       0\n",
              "child_id    0\n",
              "date        0\n",
              "gender      0\n",
              "dob         0\n",
              "height      0\n",
              "weight      0\n",
              "cbmi        0\n",
              "zlen        0\n",
              "flen        0\n",
              "zwei        0\n",
              "fwei        0\n",
              "zwfl        0\n",
              "fwfl        0\n",
              "zbmi        0\n",
              "fbmi        0\n",
              "dtype: int64"
            ]
          },
          "execution_count": 12,
          "metadata": {},
          "output_type": "execute_result"
        }
      ],
      "source": [
        "df_transformed.isna().sum().sort_values(ascending=False)"
      ]
    },
    {
      "cell_type": "markdown",
      "metadata": {
        "id": "RTxAMgEFPg1q"
      },
      "source": [
        "**Transform date to datetime format**"
      ]
    },
    {
      "cell_type": "code",
      "execution_count": 13,
      "metadata": {
        "id": "PeHHa-cQXIFI"
      },
      "outputs": [],
      "source": [
        "df_transformed.loc[:, 'date'] = pd.to_datetime(df_transformed.loc[:, 'date'], errors='coerce', format='%Y-%m-%d')\n",
        "df_transformed.loc[:, 'dob'] = pd.to_datetime(df_transformed.loc[:, 'dob'], errors='coerce', format='%Y-%m-%d')\n"
      ]
    },
    {
      "cell_type": "code",
      "execution_count": 14,
      "metadata": {
        "colab": {
          "base_uri": "https://localhost:8080/"
        },
        "collapsed": true,
        "id": "Whz-YSJoNi2h",
        "outputId": "11018b66-c764-4785-ff15-9e91486b305f"
      },
      "outputs": [
        {
          "name": "stderr",
          "output_type": "stream",
          "text": [
            "C:\\Users\\Andres\\AppData\\Local\\Temp\\ipykernel_9992\\1836061915.py:1: SettingWithCopyWarning: \n",
            "A value is trying to be set on a copy of a slice from a DataFrame.\n",
            "Try using .loc[row_indexer,col_indexer] = value instead\n",
            "\n",
            "See the caveats in the documentation: https://pandas.pydata.org/pandas-docs/stable/user_guide/indexing.html#returning-a-view-versus-a-copy\n",
            "  df_transformed['date'] = df_transformed['date'].apply(lambda x: x.to_pydatetime())\n",
            "C:\\Users\\Andres\\AppData\\Local\\Temp\\ipykernel_9992\\1836061915.py:2: SettingWithCopyWarning: \n",
            "A value is trying to be set on a copy of a slice from a DataFrame.\n",
            "Try using .loc[row_indexer,col_indexer] = value instead\n",
            "\n",
            "See the caveats in the documentation: https://pandas.pydata.org/pandas-docs/stable/user_guide/indexing.html#returning-a-view-versus-a-copy\n",
            "  df_transformed['dob'] = df_transformed['dob'].apply(lambda x: x.to_pydatetime())\n"
          ]
        }
      ],
      "source": [
        "df_transformed['date'] = df_transformed['date'].apply(lambda x: x.to_pydatetime())\n",
        "df_transformed['dob'] = df_transformed['dob'].apply(lambda x: x.to_pydatetime())"
      ]
    },
    {
      "cell_type": "code",
      "execution_count": 15,
      "metadata": {
        "colab": {
          "base_uri": "https://localhost:8080/"
        },
        "id": "r59LVmtnJkXw",
        "outputId": "5dfa090a-380f-4124-db35-8f14bf6f493d"
      },
      "outputs": [
        {
          "name": "stdout",
          "output_type": "stream",
          "text": [
            "<DatetimeArray>\n",
            "['2019-10-01 00:00:00', '2020-01-01 00:00:00', '2020-07-01 00:00:00',\n",
            " '2020-10-01 00:00:00', '2021-01-01 00:00:00', '2021-04-01 00:00:00',\n",
            " '2021-07-01 00:00:00', '2021-10-01 00:00:00', '2019-07-01 00:00:00',\n",
            " '2020-04-01 00:00:00', '2018-07-01 00:00:00', '2018-10-01 00:00:00',\n",
            " '2019-01-01 00:00:00', '2019-04-01 00:00:00']\n",
            "Length: 14, dtype: datetime64[ns]\n"
          ]
        }
      ],
      "source": [
        "print(df_transformed['date'].unique())\n"
      ]
    },
    {
      "cell_type": "markdown",
      "metadata": {
        "id": "88ygBRTK5fpT"
      },
      "source": [
        "**Check for NaN or Null values after transformation**"
      ]
    },
    {
      "cell_type": "code",
      "execution_count": 16,
      "metadata": {
        "colab": {
          "base_uri": "https://localhost:8080/",
          "height": 993
        },
        "collapsed": true,
        "id": "qCuhfCZ6aKQ8",
        "outputId": "dbdcb0b7-43a0-4c91-97c2-b1693ea56eab"
      },
      "outputs": [
        {
          "data": {
            "text/plain": [
              "district    0\n",
              "upazila     0\n",
              "union       0\n",
              "village     0\n",
              "hh_id       0\n",
              "child_id    0\n",
              "date        0\n",
              "gender      0\n",
              "dob         0\n",
              "height      0\n",
              "weight      0\n",
              "cbmi        0\n",
              "zlen        0\n",
              "flen        0\n",
              "zwei        0\n",
              "fwei        0\n",
              "zwfl        0\n",
              "fwfl        0\n",
              "zbmi        0\n",
              "fbmi        0\n",
              "dtype: int64"
            ]
          },
          "execution_count": 16,
          "metadata": {},
          "output_type": "execute_result"
        }
      ],
      "source": [
        "df_transformed.isna().sum()"
      ]
    },
    {
      "cell_type": "code",
      "execution_count": 17,
      "metadata": {
        "colab": {
          "base_uri": "https://localhost:8080/",
          "height": 993
        },
        "collapsed": true,
        "id": "q8Uvt3m46RyJ",
        "outputId": "50b74c82-1b63-4d05-c13a-cd5b174cad79"
      },
      "outputs": [
        {
          "data": {
            "text/plain": [
              "district    0.0\n",
              "upazila     0.0\n",
              "union       0.0\n",
              "village     0.0\n",
              "hh_id       0.0\n",
              "child_id    0.0\n",
              "date        0.0\n",
              "gender      0.0\n",
              "dob         0.0\n",
              "height      0.0\n",
              "weight      0.0\n",
              "cbmi        0.0\n",
              "zlen        0.0\n",
              "flen        0.0\n",
              "zwei        0.0\n",
              "fwei        0.0\n",
              "zwfl        0.0\n",
              "fwfl        0.0\n",
              "zbmi        0.0\n",
              "fbmi        0.0\n",
              "dtype: float64"
            ]
          },
          "execution_count": 17,
          "metadata": {},
          "output_type": "execute_result"
        }
      ],
      "source": [
        "df_transformed.isnull().sum().sort_values(ascending=False) / len(data)"
      ]
    },
    {
      "cell_type": "markdown",
      "metadata": {
        "id": "-T4CnRd5OlBS"
      },
      "source": [
        "## 1.4) Data Visualization"
      ]
    },
    {
      "cell_type": "code",
      "execution_count": 18,
      "metadata": {
        "colab": {
          "base_uri": "https://localhost:8080/",
          "height": 472
        },
        "id": "vexw1-GnbC6y",
        "outputId": "b87eb85e-1074-445a-edc4-5d627abf5bdf"
      },
      "outputs": [
        {
          "data": {
            "image/png": "[encoded data removed]",
            "text/plain": [
              "<Figure size 640x480 with 1 Axes>"
            ]
          },
          "metadata": {},
          "output_type": "display_data"
        }
      ],
      "source": [
        "zones = sns.countplot(x=\"district\", hue= 'gender', data= df_transformed, palette= \"Set2\")\n",
        "zones.set(xlabel='District', ylabel='Frequency', title='Distribution of Districts by Gender');"
      ]
    },
    {
      "cell_type": "code",
      "execution_count": 19,
      "metadata": {
        "colab": {
          "base_uri": "https://localhost:8080/",
          "height": 529
        },
        "id": "NHETW0VGb-qA",
        "outputId": "959b898d-3d81-4774-8f3d-462f9f4df638"
      },
      "outputs": [
        {
          "data": {
            "image/png": "[encoded data removed]",
            "text/plain": [
              "<Figure size 511.111x500 with 1 Axes>"
            ]
          },
          "metadata": {},
          "output_type": "display_data"
        }
      ],
      "source": [
        "outliers_weight = sns.catplot(x='gender', y='weight', data= df_transformed, kind = 'boxen')\n",
        "outliers_weight.set(xlabel='Gender', ylabel='Weight (kg)', title='Weight Distribution by Gender');"
      ]
    },
    {
      "cell_type": "code",
      "execution_count": 20,
      "metadata": {
        "colab": {
          "base_uri": "https://localhost:8080/",
          "height": 614
        },
        "id": "f3Ihr0qr5GzM",
        "outputId": "25073eb4-3890-49eb-ee80-d55ff31da157"
      },
      "outputs": [],
      "source": [
        "#histo = sns.displot(df_transformed, x= 'weight', hue= 'gender', multiple=\"stack\", bins=25)\n",
        "#histo.figure.set_size_inches(4,6)\n",
        "#histo.set(xlabel='Weight (kg)', ylabel='Frequency', title='Weight Distribution of Total Observations');"
      ]
    },
    {
      "cell_type": "code",
      "execution_count": 21,
      "metadata": {
        "id": "GLQ88O9yaZyv"
      },
      "outputs": [
        {
          "data": {
            "image/png": "[encoded data removed]",
            "text/plain": [
              "<Figure size 1800x400 with 3 Axes>"
            ]
          },
          "metadata": {},
          "output_type": "display_data"
        }
      ],
      "source": [
        "def graph_plot(df, list_x):\n",
        "  fig, axs = plt.subplots(1, len(list_x), figsize=(18, 4))\n",
        "\n",
        "  for i, col in enumerate(list_x):\n",
        "    sns.histplot(data=df,\n",
        "                 x= col,\n",
        "                 hue= 'gender',\n",
        "                 multiple=\"stack\",\n",
        "                 bins=28,\n",
        "                 ax=axs[i])\n",
        "    axs[i].set_title(col.capitalize())\n",
        "    fig.suptitle('Distribution of anthropometric data')\n",
        "\n",
        "graph_plot(df_transformed, ['weight','height','cbmi'])"
      ]
    },
    {
      "cell_type": "markdown",
      "metadata": {
        "id": "CwWC7AgE54b2"
      },
      "source": [
        "**OneHotEncoding for the categorical variables**"
      ]
    },
    {
      "cell_type": "code",
      "execution_count": 22,
      "metadata": {
        "colab": {
          "base_uri": "https://localhost:8080/",
          "height": 418
        },
        "id": "e8IEbU2W4xSO",
        "outputId": "d6408a2e-2ffc-4f4a-a1bc-a0defc351e1c"
      },
      "outputs": [
        {
          "data": {
            "text/plain": [
              "[array(['Barguna', 'Jessore', 'Khulna', 'Patuakhali', 'Satkhira'],\n",
              "       dtype=object),\n",
              " array(['F', 'M'], dtype=object)]"
            ]
          },
          "metadata": {},
          "output_type": "display_data"
        },
        {
          "name": "stderr",
          "output_type": "stream",
          "text": [
            "C:\\Users\\Andres\\AppData\\Local\\Temp\\ipykernel_9992\\3972922373.py:9: SettingWithCopyWarning: \n",
            "A value is trying to be set on a copy of a slice from a DataFrame.\n",
            "Try using .loc[row_indexer,col_indexer] = value instead\n",
            "\n",
            "See the caveats in the documentation: https://pandas.pydata.org/pandas-docs/stable/user_guide/indexing.html#returning-a-view-versus-a-copy\n",
            "  df_transformed[['district', 'gender']] = ordinal_encoder.transform(df_transformed[['district', 'gender']])\n"
          ]
        },
        {
          "data": {
            "text/html": [
              "<div>\n",
              "<style scoped>\n",
              "    .dataframe tbody tr th:only-of-type {\n",
              "        vertical-align: middle;\n",
              "    }\n",
              "\n",
              "    .dataframe tbody tr th {\n",
              "        vertical-align: top;\n",
              "    }\n",
              "\n",
              "    .dataframe thead th {\n",
              "        text-align: right;\n",
              "    }\n",
              "</style>\n",
              "<table border=\"1\" class=\"dataframe\">\n",
              "  <thead>\n",
              "    <tr style=\"text-align: right;\">\n",
              "      <th></th>\n",
              "      <th>district</th>\n",
              "      <th>upazila</th>\n",
              "      <th>union</th>\n",
              "      <th>village</th>\n",
              "      <th>hh_id</th>\n",
              "      <th>child_id</th>\n",
              "      <th>date</th>\n",
              "      <th>gender</th>\n",
              "      <th>dob</th>\n",
              "      <th>height</th>\n",
              "      <th>weight</th>\n",
              "      <th>cbmi</th>\n",
              "      <th>zlen</th>\n",
              "      <th>flen</th>\n",
              "      <th>zwei</th>\n",
              "      <th>fwei</th>\n",
              "      <th>zwfl</th>\n",
              "      <th>fwfl</th>\n",
              "      <th>zbmi</th>\n",
              "      <th>fbmi</th>\n",
              "    </tr>\n",
              "  </thead>\n",
              "  <tbody>\n",
              "    <tr>\n",
              "      <th>2</th>\n",
              "      <td>3.0</td>\n",
              "      <td>7857</td>\n",
              "      <td>785737</td>\n",
              "      <td>1659</td>\n",
              "      <td>181000002</td>\n",
              "      <td>181000002</td>\n",
              "      <td>2019-10-01</td>\n",
              "      <td>1.0</td>\n",
              "      <td>2018-01-01</td>\n",
              "      <td>71.0</td>\n",
              "      <td>12.0</td>\n",
              "      <td>21.7</td>\n",
              "      <td>-4.6</td>\n",
              "      <td>0.0</td>\n",
              "      <td>-0.2</td>\n",
              "      <td>0.0</td>\n",
              "      <td>2.8</td>\n",
              "      <td>0.0</td>\n",
              "      <td>3.7</td>\n",
              "      <td>0.0</td>\n",
              "    </tr>\n",
              "    <tr>\n",
              "      <th>3</th>\n",
              "      <td>3.0</td>\n",
              "      <td>7857</td>\n",
              "      <td>785737</td>\n",
              "      <td>1659</td>\n",
              "      <td>181000002</td>\n",
              "      <td>181000002</td>\n",
              "      <td>2019-10-01</td>\n",
              "      <td>1.0</td>\n",
              "      <td>2018-01-01</td>\n",
              "      <td>74.0</td>\n",
              "      <td>11.0</td>\n",
              "      <td>22.5</td>\n",
              "      <td>-4.3</td>\n",
              "      <td>0.0</td>\n",
              "      <td>0.2</td>\n",
              "      <td>0.0</td>\n",
              "      <td>3.2</td>\n",
              "      <td>0.0</td>\n",
              "      <td>4.2</td>\n",
              "      <td>0.0</td>\n",
              "    </tr>\n",
              "    <tr>\n",
              "      <th>4</th>\n",
              "      <td>3.0</td>\n",
              "      <td>7857</td>\n",
              "      <td>785737</td>\n",
              "      <td>1659</td>\n",
              "      <td>181000002</td>\n",
              "      <td>181000002</td>\n",
              "      <td>2020-01-01</td>\n",
              "      <td>1.0</td>\n",
              "      <td>2018-01-01</td>\n",
              "      <td>75.0</td>\n",
              "      <td>12.0</td>\n",
              "      <td>22.2</td>\n",
              "      <td>-4.2</td>\n",
              "      <td>0.0</td>\n",
              "      <td>0.2</td>\n",
              "      <td>0.0</td>\n",
              "      <td>3.1</td>\n",
              "      <td>0.0</td>\n",
              "      <td>4.1</td>\n",
              "      <td>0.0</td>\n",
              "    </tr>\n",
              "  </tbody>\n",
              "</table>\n",
              "</div>"
            ],
            "text/plain": [
              "   district  upazila   union  village      hh_id   child_id       date  \\\n",
              "2       3.0     7857  785737     1659  181000002  181000002 2019-10-01   \n",
              "3       3.0     7857  785737     1659  181000002  181000002 2019-10-01   \n",
              "4       3.0     7857  785737     1659  181000002  181000002 2020-01-01   \n",
              "\n",
              "   gender        dob  height  weight  cbmi  zlen  flen  zwei  fwei  zwfl  \\\n",
              "2     1.0 2018-01-01    71.0    12.0  21.7  -4.6   0.0  -0.2   0.0   2.8   \n",
              "3     1.0 2018-01-01    74.0    11.0  22.5  -4.3   0.0   0.2   0.0   3.2   \n",
              "4     1.0 2018-01-01    75.0    12.0  22.2  -4.2   0.0   0.2   0.0   3.1   \n",
              "\n",
              "   fwfl  zbmi  fbmi  \n",
              "2   0.0   3.7   0.0  \n",
              "3   0.0   4.2   0.0  \n",
              "4   0.0   4.1   0.0  "
            ]
          },
          "execution_count": 22,
          "metadata": {},
          "output_type": "execute_result"
        }
      ],
      "source": [
        "\n",
        "# Instantiate the OneHotEncoder\n",
        "ordinal_encoder = OrdinalEncoder()\n",
        "# Fit encoder\n",
        "ordinal_encoder.fit((df_transformed[['district', 'gender']]))\n",
        "# Display the learned categories\n",
        "display(ordinal_encoder.categories_)\n",
        "\n",
        "# Transform categories into ordered numbers\n",
        "df_transformed[['district', 'gender']] = ordinal_encoder.transform(df_transformed[['district', 'gender']])\n",
        "\n",
        "# Show the dataset\n",
        "df_transformed.head(3)"
      ]
    },
    {
      "cell_type": "code",
      "execution_count": 23,
      "metadata": {
        "colab": {
          "base_uri": "https://localhost:8080/"
        },
        "collapsed": true,
        "id": "C0ryHEcnTuHM",
        "outputId": "4a86b36b-16a9-481b-8097-5d758f62d273"
      },
      "outputs": [
        {
          "name": "stderr",
          "output_type": "stream",
          "text": [
            "C:\\Users\\Andres\\AppData\\Local\\Temp\\ipykernel_9992\\996624042.py:1: SettingWithCopyWarning: \n",
            "A value is trying to be set on a copy of a slice from a DataFrame.\n",
            "Try using .loc[row_indexer,col_indexer] = value instead\n",
            "\n",
            "See the caveats in the documentation: https://pandas.pydata.org/pandas-docs/stable/user_guide/indexing.html#returning-a-view-versus-a-copy\n",
            "  df_transformed.loc[:, 'age_in_months'] = ((df_transformed.loc[:, 'date'].dt.year - df_transformed.loc[:, 'dob'].dt.year) * 12 +\n"
          ]
        },
        {
          "name": "stdout",
          "output_type": "stream",
          "text": [
            "2         21\n",
            "3         21\n",
            "4         24\n",
            "5         24\n",
            "6         30\n",
            "          ..\n",
            "486244     9\n",
            "486245     9\n",
            "486246     9\n",
            "486247     6\n",
            "486248     3\n",
            "Name: age_in_months, Length: 420947, dtype: int32\n"
          ]
        }
      ],
      "source": [
        "df_transformed.loc[:, 'age_in_months'] = ((df_transformed.loc[:, 'date'].dt.year - df_transformed.loc[:, 'dob'].dt.year) * 12 +\n",
        "                                        (df_transformed.loc[:, 'date'].dt.month - df_transformed.loc[:, 'dob'].dt.month)\n",
        "                                        )\n",
        "print(df_transformed['age_in_months'])"
      ]
    },
    {
      "cell_type": "markdown",
      "metadata": {},
      "source": [
        "**Correlation Matrix**"
      ]
    },
    {
      "cell_type": "code",
      "execution_count": 24,
      "metadata": {
        "colab": {
          "base_uri": "https://localhost:8080/",
          "height": 558
        },
        "id": "uEtyx1x_7bfs",
        "outputId": "7777ffd4-76ef-4cd7-c207-7cef456d5649"
      },
      "outputs": [
        {
          "data": {
            "text/plain": [
              "<Axes: >"
            ]
          },
          "execution_count": 24,
          "metadata": {},
          "output_type": "execute_result"
        },
        {
          "data": {
            "image/png": "[encoded data removed]",
            "text/plain": [
              "<Figure size 500x500 with 2 Axes>"
            ]
          },
          "metadata": {},
          "output_type": "display_data"
        }
      ],
      "source": [
        "plt.figure(figsize = (5, 5))\n",
        "\n",
        "sns.heatmap(\n",
        "    df_transformed[['district','gender','weight','height','cbmi', 'age_in_months']].corr(),\n",
        "    cmap = 'coolwarm',\n",
        "    annot = True,\n",
        "    annot_kws = {\"size\": 10}\n",
        ")"
      ]
    },
    {
      "cell_type": "markdown",
      "metadata": {},
      "source": [
        "There are 4 Correlations highlighted:\n",
        "1. weight and height (height): They have a high positive correlation (0.82), which is expected because weight and height are usually related.\n",
        "2. height and age_in_months: High correlation (0.83), suggesting that older children tend to be taller.\n",
        "3. weight and age_in_months: Significant positive correlation (0.75), indicating that as children grow up their weight increases. \n",
        "4. height and cbmi: Negative correlation (-0.51), possibly because the adjusted BMI decreases as the height increases in certain contexts."
      ]
    },
    {
      "cell_type": "markdown",
      "metadata": {},
      "source": [
        "**Nutritional classification according to ZScore for length and BMI**\n",
        "\n",
        "Sometimes when children are stunted at the same time they are overweight so it is important to chek both parameters"
      ]
    },
    {
      "cell_type": "code",
      "execution_count": 25,
      "metadata": {},
      "outputs": [
        {
          "name": "stderr",
          "output_type": "stream",
          "text": [
            "C:\\Users\\Andres\\AppData\\Local\\Temp\\ipykernel_9992\\1410612224.py:2: SettingWithCopyWarning: \n",
            "A value is trying to be set on a copy of a slice from a DataFrame.\n",
            "Try using .loc[row_indexer,col_indexer] = value instead\n",
            "\n",
            "See the caveats in the documentation: https://pandas.pydata.org/pandas-docs/stable/user_guide/indexing.html#returning-a-view-versus-a-copy\n",
            "  df_transformed['obs_num'] = df_transformed.groupby('child_id').cumcount() + 1\n",
            "C:\\Users\\Andres\\AppData\\Local\\Temp\\ipykernel_9992\\1410612224.py:4: SettingWithCopyWarning: \n",
            "A value is trying to be set on a copy of a slice from a DataFrame.\n",
            "Try using .loc[row_indexer,col_indexer] = value instead\n",
            "\n",
            "See the caveats in the documentation: https://pandas.pydata.org/pandas-docs/stable/user_guide/indexing.html#returning-a-view-versus-a-copy\n",
            "  df_transformed['stunt'] = df_transformed['zlen'].apply(lambda x: True if x <= -2 else False) * 1\n"
          ]
        },
        {
          "data": {
            "text/html": [
              "<div>\n",
              "<style scoped>\n",
              "    .dataframe tbody tr th:only-of-type {\n",
              "        vertical-align: middle;\n",
              "    }\n",
              "\n",
              "    .dataframe tbody tr th {\n",
              "        vertical-align: top;\n",
              "    }\n",
              "\n",
              "    .dataframe thead th {\n",
              "        text-align: right;\n",
              "    }\n",
              "</style>\n",
              "<table border=\"1\" class=\"dataframe\">\n",
              "  <thead>\n",
              "    <tr style=\"text-align: right;\">\n",
              "      <th></th>\n",
              "      <th>district</th>\n",
              "      <th>upazila</th>\n",
              "      <th>union</th>\n",
              "      <th>village</th>\n",
              "      <th>hh_id</th>\n",
              "      <th>child_id</th>\n",
              "      <th>date</th>\n",
              "      <th>gender</th>\n",
              "      <th>dob</th>\n",
              "      <th>height</th>\n",
              "      <th>...</th>\n",
              "      <th>flen</th>\n",
              "      <th>zwei</th>\n",
              "      <th>fwei</th>\n",
              "      <th>zwfl</th>\n",
              "      <th>fwfl</th>\n",
              "      <th>zbmi</th>\n",
              "      <th>fbmi</th>\n",
              "      <th>age_in_months</th>\n",
              "      <th>obs_num</th>\n",
              "      <th>stunt</th>\n",
              "    </tr>\n",
              "  </thead>\n",
              "  <tbody>\n",
              "    <tr>\n",
              "      <th>2</th>\n",
              "      <td>3.0</td>\n",
              "      <td>7857</td>\n",
              "      <td>785737</td>\n",
              "      <td>1659</td>\n",
              "      <td>181000002</td>\n",
              "      <td>181000002</td>\n",
              "      <td>2019-10-01</td>\n",
              "      <td>1.0</td>\n",
              "      <td>2018-01-01</td>\n",
              "      <td>71.0</td>\n",
              "      <td>...</td>\n",
              "      <td>0.0</td>\n",
              "      <td>-0.2</td>\n",
              "      <td>0.0</td>\n",
              "      <td>2.8</td>\n",
              "      <td>0.0</td>\n",
              "      <td>3.7</td>\n",
              "      <td>0.0</td>\n",
              "      <td>21</td>\n",
              "      <td>1</td>\n",
              "      <td>1</td>\n",
              "    </tr>\n",
              "    <tr>\n",
              "      <th>3</th>\n",
              "      <td>3.0</td>\n",
              "      <td>7857</td>\n",
              "      <td>785737</td>\n",
              "      <td>1659</td>\n",
              "      <td>181000002</td>\n",
              "      <td>181000002</td>\n",
              "      <td>2019-10-01</td>\n",
              "      <td>1.0</td>\n",
              "      <td>2018-01-01</td>\n",
              "      <td>74.0</td>\n",
              "      <td>...</td>\n",
              "      <td>0.0</td>\n",
              "      <td>0.2</td>\n",
              "      <td>0.0</td>\n",
              "      <td>3.2</td>\n",
              "      <td>0.0</td>\n",
              "      <td>4.2</td>\n",
              "      <td>0.0</td>\n",
              "      <td>21</td>\n",
              "      <td>2</td>\n",
              "      <td>1</td>\n",
              "    </tr>\n",
              "    <tr>\n",
              "      <th>4</th>\n",
              "      <td>3.0</td>\n",
              "      <td>7857</td>\n",
              "      <td>785737</td>\n",
              "      <td>1659</td>\n",
              "      <td>181000002</td>\n",
              "      <td>181000002</td>\n",
              "      <td>2020-01-01</td>\n",
              "      <td>1.0</td>\n",
              "      <td>2018-01-01</td>\n",
              "      <td>75.0</td>\n",
              "      <td>...</td>\n",
              "      <td>0.0</td>\n",
              "      <td>0.2</td>\n",
              "      <td>0.0</td>\n",
              "      <td>3.1</td>\n",
              "      <td>0.0</td>\n",
              "      <td>4.1</td>\n",
              "      <td>0.0</td>\n",
              "      <td>24</td>\n",
              "      <td>3</td>\n",
              "      <td>1</td>\n",
              "    </tr>\n",
              "    <tr>\n",
              "      <th>5</th>\n",
              "      <td>3.0</td>\n",
              "      <td>7857</td>\n",
              "      <td>785737</td>\n",
              "      <td>1659</td>\n",
              "      <td>181000002</td>\n",
              "      <td>181000002</td>\n",
              "      <td>2020-01-01</td>\n",
              "      <td>1.0</td>\n",
              "      <td>2018-01-01</td>\n",
              "      <td>76.0</td>\n",
              "      <td>...</td>\n",
              "      <td>0.0</td>\n",
              "      <td>0.1</td>\n",
              "      <td>0.0</td>\n",
              "      <td>2.8</td>\n",
              "      <td>0.0</td>\n",
              "      <td>3.8</td>\n",
              "      <td>0.0</td>\n",
              "      <td>24</td>\n",
              "      <td>4</td>\n",
              "      <td>1</td>\n",
              "    </tr>\n",
              "    <tr>\n",
              "      <th>6</th>\n",
              "      <td>3.0</td>\n",
              "      <td>7857</td>\n",
              "      <td>785737</td>\n",
              "      <td>1659</td>\n",
              "      <td>181000002</td>\n",
              "      <td>181000002</td>\n",
              "      <td>2020-07-01</td>\n",
              "      <td>1.0</td>\n",
              "      <td>2018-01-01</td>\n",
              "      <td>79.0</td>\n",
              "      <td>...</td>\n",
              "      <td>0.0</td>\n",
              "      <td>-0.4</td>\n",
              "      <td>0.0</td>\n",
              "      <td>2.3</td>\n",
              "      <td>0.0</td>\n",
              "      <td>3.0</td>\n",
              "      <td>0.0</td>\n",
              "      <td>30</td>\n",
              "      <td>5</td>\n",
              "      <td>1</td>\n",
              "    </tr>\n",
              "    <tr>\n",
              "      <th>...</th>\n",
              "      <td>...</td>\n",
              "      <td>...</td>\n",
              "      <td>...</td>\n",
              "      <td>...</td>\n",
              "      <td>...</td>\n",
              "      <td>...</td>\n",
              "      <td>...</td>\n",
              "      <td>...</td>\n",
              "      <td>...</td>\n",
              "      <td>...</td>\n",
              "      <td>...</td>\n",
              "      <td>...</td>\n",
              "      <td>...</td>\n",
              "      <td>...</td>\n",
              "      <td>...</td>\n",
              "      <td>...</td>\n",
              "      <td>...</td>\n",
              "      <td>...</td>\n",
              "      <td>...</td>\n",
              "      <td>...</td>\n",
              "      <td>...</td>\n",
              "    </tr>\n",
              "    <tr>\n",
              "      <th>486244</th>\n",
              "      <td>3.0</td>\n",
              "      <td>7857</td>\n",
              "      <td>785755</td>\n",
              "      <td>813</td>\n",
              "      <td>191002449</td>\n",
              "      <td>213001053</td>\n",
              "      <td>2021-10-01</td>\n",
              "      <td>0.0</td>\n",
              "      <td>2021-01-01</td>\n",
              "      <td>61.0</td>\n",
              "      <td>...</td>\n",
              "      <td>0.0</td>\n",
              "      <td>-0.5</td>\n",
              "      <td>0.0</td>\n",
              "      <td>1.7</td>\n",
              "      <td>0.0</td>\n",
              "      <td>1.4</td>\n",
              "      <td>0.0</td>\n",
              "      <td>9</td>\n",
              "      <td>1</td>\n",
              "      <td>1</td>\n",
              "    </tr>\n",
              "    <tr>\n",
              "      <th>486245</th>\n",
              "      <td>3.0</td>\n",
              "      <td>7857</td>\n",
              "      <td>785755</td>\n",
              "      <td>813</td>\n",
              "      <td>191002449</td>\n",
              "      <td>213001053</td>\n",
              "      <td>2021-10-01</td>\n",
              "      <td>0.0</td>\n",
              "      <td>2021-01-01</td>\n",
              "      <td>61.0</td>\n",
              "      <td>...</td>\n",
              "      <td>0.0</td>\n",
              "      <td>-0.8</td>\n",
              "      <td>0.0</td>\n",
              "      <td>1.5</td>\n",
              "      <td>0.0</td>\n",
              "      <td>1.3</td>\n",
              "      <td>0.0</td>\n",
              "      <td>9</td>\n",
              "      <td>2</td>\n",
              "      <td>1</td>\n",
              "    </tr>\n",
              "    <tr>\n",
              "      <th>486246</th>\n",
              "      <td>0.0</td>\n",
              "      <td>409</td>\n",
              "      <td>40963</td>\n",
              "      <td>1419</td>\n",
              "      <td>213001054</td>\n",
              "      <td>213001054</td>\n",
              "      <td>2021-10-01</td>\n",
              "      <td>0.0</td>\n",
              "      <td>2021-01-01</td>\n",
              "      <td>69.0</td>\n",
              "      <td>...</td>\n",
              "      <td>0.0</td>\n",
              "      <td>0.2</td>\n",
              "      <td>0.0</td>\n",
              "      <td>-0.2</td>\n",
              "      <td>0.0</td>\n",
              "      <td>-0.3</td>\n",
              "      <td>0.0</td>\n",
              "      <td>9</td>\n",
              "      <td>1</td>\n",
              "      <td>0</td>\n",
              "    </tr>\n",
              "    <tr>\n",
              "      <th>486247</th>\n",
              "      <td>2.0</td>\n",
              "      <td>4764</td>\n",
              "      <td>476427</td>\n",
              "      <td>486</td>\n",
              "      <td>214000247</td>\n",
              "      <td>214000247</td>\n",
              "      <td>2021-10-01</td>\n",
              "      <td>1.0</td>\n",
              "      <td>2021-04-01</td>\n",
              "      <td>62.0</td>\n",
              "      <td>...</td>\n",
              "      <td>0.0</td>\n",
              "      <td>0.0</td>\n",
              "      <td>0.0</td>\n",
              "      <td>1.9</td>\n",
              "      <td>0.0</td>\n",
              "      <td>1.6</td>\n",
              "      <td>0.0</td>\n",
              "      <td>6</td>\n",
              "      <td>1</td>\n",
              "      <td>1</td>\n",
              "    </tr>\n",
              "    <tr>\n",
              "      <th>486248</th>\n",
              "      <td>2.0</td>\n",
              "      <td>4764</td>\n",
              "      <td>476427</td>\n",
              "      <td>486</td>\n",
              "      <td>212001907</td>\n",
              "      <td>214000366</td>\n",
              "      <td>2021-10-01</td>\n",
              "      <td>0.0</td>\n",
              "      <td>2021-07-01</td>\n",
              "      <td>55.0</td>\n",
              "      <td>...</td>\n",
              "      <td>0.0</td>\n",
              "      <td>-1.1</td>\n",
              "      <td>0.0</td>\n",
              "      <td>2.0</td>\n",
              "      <td>0.0</td>\n",
              "      <td>0.9</td>\n",
              "      <td>0.0</td>\n",
              "      <td>3</td>\n",
              "      <td>1</td>\n",
              "      <td>1</td>\n",
              "    </tr>\n",
              "  </tbody>\n",
              "</table>\n",
              "<p>420947 rows × 23 columns</p>\n",
              "</div>"
            ],
            "text/plain": [
              "        district  upazila   union  village      hh_id   child_id       date  \\\n",
              "2            3.0     7857  785737     1659  181000002  181000002 2019-10-01   \n",
              "3            3.0     7857  785737     1659  181000002  181000002 2019-10-01   \n",
              "4            3.0     7857  785737     1659  181000002  181000002 2020-01-01   \n",
              "5            3.0     7857  785737     1659  181000002  181000002 2020-01-01   \n",
              "6            3.0     7857  785737     1659  181000002  181000002 2020-07-01   \n",
              "...          ...      ...     ...      ...        ...        ...        ...   \n",
              "486244       3.0     7857  785755      813  191002449  213001053 2021-10-01   \n",
              "486245       3.0     7857  785755      813  191002449  213001053 2021-10-01   \n",
              "486246       0.0      409   40963     1419  213001054  213001054 2021-10-01   \n",
              "486247       2.0     4764  476427      486  214000247  214000247 2021-10-01   \n",
              "486248       2.0     4764  476427      486  212001907  214000366 2021-10-01   \n",
              "\n",
              "        gender        dob  height  ...  flen  zwei  fwei  zwfl  fwfl  zbmi  \\\n",
              "2          1.0 2018-01-01    71.0  ...   0.0  -0.2   0.0   2.8   0.0   3.7   \n",
              "3          1.0 2018-01-01    74.0  ...   0.0   0.2   0.0   3.2   0.0   4.2   \n",
              "4          1.0 2018-01-01    75.0  ...   0.0   0.2   0.0   3.1   0.0   4.1   \n",
              "5          1.0 2018-01-01    76.0  ...   0.0   0.1   0.0   2.8   0.0   3.8   \n",
              "6          1.0 2018-01-01    79.0  ...   0.0  -0.4   0.0   2.3   0.0   3.0   \n",
              "...        ...        ...     ...  ...   ...   ...   ...   ...   ...   ...   \n",
              "486244     0.0 2021-01-01    61.0  ...   0.0  -0.5   0.0   1.7   0.0   1.4   \n",
              "486245     0.0 2021-01-01    61.0  ...   0.0  -0.8   0.0   1.5   0.0   1.3   \n",
              "486246     0.0 2021-01-01    69.0  ...   0.0   0.2   0.0  -0.2   0.0  -0.3   \n",
              "486247     1.0 2021-04-01    62.0  ...   0.0   0.0   0.0   1.9   0.0   1.6   \n",
              "486248     0.0 2021-07-01    55.0  ...   0.0  -1.1   0.0   2.0   0.0   0.9   \n",
              "\n",
              "        fbmi  age_in_months  obs_num  stunt  \n",
              "2        0.0             21        1      1  \n",
              "3        0.0             21        2      1  \n",
              "4        0.0             24        3      1  \n",
              "5        0.0             24        4      1  \n",
              "6        0.0             30        5      1  \n",
              "...      ...            ...      ...    ...  \n",
              "486244   0.0              9        1      1  \n",
              "486245   0.0              9        2      1  \n",
              "486246   0.0              9        1      0  \n",
              "486247   0.0              6        1      1  \n",
              "486248   0.0              3        1      1  \n",
              "\n",
              "[420947 rows x 23 columns]"
            ]
          },
          "execution_count": 25,
          "metadata": {},
          "output_type": "execute_result"
        }
      ],
      "source": [
        "#Count the numbers observations \n",
        "df_transformed['obs_num'] = df_transformed.groupby('child_id').cumcount() + 1\n",
        "\n",
        "df_transformed['stunt'] = df_transformed['zlen'].apply(lambda x: True if x <= -2 else False) * 1\n",
        "\n",
        "df_transformed"
      ]
    },
    {
      "cell_type": "code",
      "execution_count": 26,
      "metadata": {
        "colab": {
          "base_uri": "https://localhost:8080/"
        },
        "collapsed": true,
        "id": "-ttticpsh9u0",
        "outputId": "93ffd1dd-901e-473f-ad54-769fa5497629"
      },
      "outputs": [
        {
          "name": "stdout",
          "output_type": "stream",
          "text": [
            "   district  upazila   union  village      hh_id   child_id       date  \\\n",
            "2       3.0     7857  785737     1659  181000002  181000002 2019-10-01   \n",
            "3       3.0     7857  785737     1659  181000002  181000002 2019-10-01   \n",
            "4       3.0     7857  785737     1659  181000002  181000002 2020-01-01   \n",
            "5       3.0     7857  785737     1659  181000002  181000002 2020-01-01   \n",
            "6       3.0     7857  785737     1659  181000002  181000002 2020-07-01   \n",
            "\n",
            "   gender        dob  height  ...  fwei  zwfl  fwfl  zbmi  fbmi  \\\n",
            "2     1.0 2018-01-01    71.0  ...   0.0   2.8   0.0   3.7   0.0   \n",
            "3     1.0 2018-01-01    74.0  ...   0.0   3.2   0.0   4.2   0.0   \n",
            "4     1.0 2018-01-01    75.0  ...   0.0   3.1   0.0   4.1   0.0   \n",
            "5     1.0 2018-01-01    76.0  ...   0.0   2.8   0.0   3.8   0.0   \n",
            "6     1.0 2018-01-01    79.0  ...   0.0   2.3   0.0   3.0   0.0   \n",
            "\n",
            "   age_in_months  obs_num  stunt          zlen_cat    zbmi_cat  \n",
            "2             21        1      1  Severely Stunted       Obese  \n",
            "3             21        2      1  Severely Stunted       Obese  \n",
            "4             24        3      1  Severely Stunted       Obese  \n",
            "5             24        4      1  Severely Stunted       Obese  \n",
            "6             30        5      1  Severely Stunted  Overweight  \n",
            "\n",
            "[5 rows x 25 columns]\n"
          ]
        },
        {
          "name": "stderr",
          "output_type": "stream",
          "text": [
            "C:\\Users\\Andres\\AppData\\Local\\Temp\\ipykernel_9992\\2758394886.py:8: SettingWithCopyWarning: \n",
            "A value is trying to be set on a copy of a slice from a DataFrame.\n",
            "Try using .loc[row_indexer,col_indexer] = value instead\n",
            "\n",
            "See the caveats in the documentation: https://pandas.pydata.org/pandas-docs/stable/user_guide/indexing.html#returning-a-view-versus-a-copy\n",
            "  df_transformed.loc[:,'zlen_cat'] = pd.cut(df_transformed.loc[:,'zlen'], bins=bins_zlen, labels=labels_zlen)\n",
            "C:\\Users\\Andres\\AppData\\Local\\Temp\\ipykernel_9992\\2758394886.py:10: SettingWithCopyWarning: \n",
            "A value is trying to be set on a copy of a slice from a DataFrame.\n",
            "Try using .loc[row_indexer,col_indexer] = value instead\n",
            "\n",
            "See the caveats in the documentation: https://pandas.pydata.org/pandas-docs/stable/user_guide/indexing.html#returning-a-view-versus-a-copy\n",
            "  df_transformed.loc[:,'zbmi_cat'] = pd.cut(df_transformed.loc[:, 'zbmi'], bins=bins_zbmi, labels=labels_zbmi)\n"
          ]
        }
      ],
      "source": [
        "# Define the boundaries of bins and labels by Antro WHO\n",
        "bins_zlen = [-float('inf'), -3, -2, -1, float('inf')]  \n",
        "labels_zlen = [\"Severely Stunted\", \"Stunted\", \"At Risk\", \"Normal\"]\n",
        "\n",
        "bins_zbmi = [-float('inf'), -3, -2, 2, 3, float('inf')] \n",
        "labels_zbmi = [\"Severely thin\", \"Thin\", \"Normal\", \"Overweight\", \"Obese\"]\n",
        "# Create the column categorical \n",
        "df_transformed.loc[:,'zlen_cat'] = pd.cut(df_transformed.loc[:,'zlen'], bins=bins_zlen, labels=labels_zlen)\n",
        "\n",
        "df_transformed.loc[:,'zbmi_cat'] = pd.cut(df_transformed.loc[:, 'zbmi'], bins=bins_zbmi, labels=labels_zbmi)\n",
        "print(df_transformed.head())"
      ]
    },
    {
      "cell_type": "code",
      "execution_count": 27,
      "metadata": {
        "id": "VabJP-NgIUbk"
      },
      "outputs": [
        {
          "data": {
            "image/png": "[encoded data removed]",
            "text/plain": [
              "<Figure size 600x400 with 1 Axes>"
            ]
          },
          "metadata": {},
          "output_type": "display_data"
        }
      ],
      "source": [
        "histo = sns.displot(df_transformed.assign(gender=df_transformed['gender'].map({0: 'F', 1: 'M'})), x= 'zlen_cat', hue= 'gender', multiple=\"stack\", bins=20)\n",
        "histo.figure.set_size_inches(6, 4)\n",
        "histo.set(xlabel='Height categorical', ylabel='Count', title='Distribution of height categories by age');\n"
      ]
    },
    {
      "cell_type": "code",
      "execution_count": 28,
      "metadata": {
        "colab": {
          "base_uri": "https://localhost:8080/",
          "height": 600
        },
        "id": "mIzu7J50KcHV",
        "outputId": "7a2aaa52-9e35-4d16-f00e-b66058e36eaf"
      },
      "outputs": [
        {
          "data": {
            "image/png": "[encoded data removed]",
            "text/plain": [
              "<Figure size 1000x600 with 1 Axes>"
            ]
          },
          "metadata": {},
          "output_type": "display_data"
        }
      ],
      "source": [
        "firts_id = df_transformed['obs_num'] == 1\n",
        "\n",
        "first_child_id = df_transformed[df_transformed['obs_num'] == firts_id]\n",
        "\n",
        "histo = sns.displot(first_child_id, x='age_in_months', hue= 'zbmi_cat',\n",
        "                  palette=\"dark\", alpha=.9,\n",
        "                    height=6, aspect=.75,\n",
        "                       )\n",
        "histo.figure.set_size_inches(10,6)\n",
        "histo.set(xlabel='Age in months', ylabel='Count', title='Distribution of BMI categories by age');"
      ]
    },
    {
      "cell_type": "code",
      "execution_count": 29,
      "metadata": {},
      "outputs": [
        {
          "name": "stdout",
          "output_type": "stream",
          "text": [
            "Average recovery time: 3.33 observations\n"
          ]
        }
      ],
      "source": [
        "df_transformed = df_transformed.sort_values(['child_id', 'obs_num'])\n",
        "\n",
        "# Calculate recovery time\n",
        "recovery_times = []\n",
        "for child_id, group in df_transformed.groupby('child_id'):\n",
        "    stunted = group[group['stunt'] == 1]\n",
        "    recovered = group[group['stunt'] == 0]\n",
        "    if not stunted.empty and not recovered.empty:\n",
        "        first_stunt_time = stunted['obs_num'].iloc[0]\n",
        "        first_recovery_time = recovered['obs_num'].iloc[0]\n",
        "        if first_recovery_time > first_stunt_time:\n",
        "            recovery_times.append(first_recovery_time - first_stunt_time)\n",
        "\n",
        "# Average recovery time\n",
        "average_recovery_time = sum(recovery_times) / len(recovery_times)\n",
        "print(f\"Average recovery time: {average_recovery_time:.2f} observations\")"
      ]
    },
    {
      "cell_type": "markdown",
      "metadata": {},
      "source": [
        "## 2) Linear Regression Model"
      ]
    },
    {
      "cell_type": "markdown",
      "metadata": {},
      "source": [
        "First model \\\n",
        "Check the relationship between weight and other variables such as sex, district, age and number of observations"
      ]
    },
    {
      "cell_type": "code",
      "execution_count": 30,
      "metadata": {
        "colab": {
          "base_uri": "https://localhost:8080/"
        },
        "id": "WIeNc-L2em89",
        "outputId": "f16c2a79-0f2e-42bb-8573-d22d495f2bea"
      },
      "outputs": [
        {
          "name": "stdout",
          "output_type": "stream",
          "text": [
            "                            OLS Regression Results                            \n",
            "==============================================================================\n",
            "Dep. Variable:                 weight   R-squared:                       0.575\n",
            "Model:                            OLS   Adj. R-squared:                  0.575\n",
            "Method:                 Least Squares   F-statistic:                 1.423e+05\n",
            "Date:                Sun, 12 Jan 2025   Prob (F-statistic):               0.00\n",
            "Time:                        16:55:11   Log-Likelihood:            -8.4804e+05\n",
            "No. Observations:              420947   AIC:                         1.696e+06\n",
            "Df Residuals:                  420942   BIC:                         1.696e+06\n",
            "Df Model:                           4                                         \n",
            "Covariance Type:            nonrobust                                         \n",
            "=================================================================================\n",
            "                    coef    std err          t      P>|t|      [0.025      0.975]\n",
            "---------------------------------------------------------------------------------\n",
            "Intercept         6.7282      0.011    632.669      0.000       6.707       6.749\n",
            "obs_num           0.0628      0.001     85.295      0.000       0.061       0.064\n",
            "gender            0.3317      0.006     59.311      0.000       0.321       0.343\n",
            "district          0.0166      0.003      6.309      0.000       0.011       0.022\n",
            "age_in_months     0.1357      0.000    743.780      0.000       0.135       0.136\n",
            "==============================================================================\n",
            "Omnibus:                    10967.925   Durbin-Watson:                   0.949\n",
            "Prob(Omnibus):                  0.000   Jarque-Bera (JB):            21179.304\n",
            "Skew:                           0.190   Prob(JB):                         0.00\n",
            "Kurtosis:                       4.031   Cond. No.                         140.\n",
            "==============================================================================\n",
            "\n",
            "Notes:\n",
            "[1] Standard Errors assume that the covariance matrix of the errors is correctly specified.\n"
          ]
        }
      ],
      "source": [
        "model = smf.ols(formula = 'weight ~  obs_num + gender + district + age_in_months' , data= df_transformed)\n",
        "results = model.fit()\n",
        "print(results.summary())"
      ]
    },
    {
      "cell_type": "markdown",
      "metadata": {},
      "source": [
        "**Analysis**\n",
        "- **R-squared** The 57.5% of the variability in weight is explained by variables included in the model\n",
        "- **Intercept** The weigth is 6.7 when all the variable are 0. \n",
        "- **Gender**  Being male is associated with an average increase of 0.3317 in weight."
      ]
    },
    {
      "cell_type": "markdown",
      "metadata": {},
      "source": [
        "Second Model \\  \n",
        "Regresion logistic model \n"
      ]
    },
    {
      "cell_type": "code",
      "execution_count": 31,
      "metadata": {},
      "outputs": [
        {
          "name": "stdout",
          "output_type": "stream",
          "text": [
            "Optimization terminated successfully.\n",
            "         Current function value: 0.650719\n",
            "         Iterations 5\n",
            "                           Logit Regression Results                           \n",
            "==============================================================================\n",
            "Dep. Variable:                  stunt   No. Observations:               420947\n",
            "Model:                          Logit   Df Residuals:                   420939\n",
            "Method:                           MLE   Df Model:                            7\n",
            "Date:                Sun, 12 Jan 2025   Pseudo R-squ.:                 0.02999\n",
            "Time:                        16:55:14   Log-Likelihood:            -2.7392e+05\n",
            "converged:                       True   LL-Null:                   -2.8239e+05\n",
            "Covariance Type:            nonrobust   LLR p-value:                     0.000\n",
            "======================================================================================\n",
            "                         coef    std err          z      P>|z|      [0.025      0.975]\n",
            "--------------------------------------------------------------------------------------\n",
            "Intercept              0.3737      0.015     24.786      0.000       0.344       0.403\n",
            "C(district)[T.1.0]    -0.4664      0.019    -25.082      0.000      -0.503      -0.430\n",
            "C(district)[T.2.0]    -0.7252      0.014    -51.450      0.000      -0.753      -0.698\n",
            "C(district)[T.3.0]    -0.2579      0.013    -19.349      0.000      -0.284      -0.232\n",
            "C(district)[T.4.0]    -0.2169      0.014    -15.278      0.000      -0.245      -0.189\n",
            "obs_num               -0.0916      0.001    -99.029      0.000      -0.093      -0.090\n",
            "age_in_months         -0.0007      0.000     -3.276      0.001      -0.001      -0.000\n",
            "gender                 0.0920      0.006     14.304      0.000       0.079       0.105\n",
            "======================================================================================\n"
          ]
        }
      ],
      "source": [
        "\n",
        "model2 = smf.logit(formula = 'stunt ~ obs_num + age_in_months + gender + C(district)' , data= df_transformed)\n",
        "results = model2.fit()\n",
        "print(results.summary())"
      ]
    },
    {
      "cell_type": "markdown",
      "metadata": {},
      "source": [
        "**Analysis**\n",
        "- **Pseudo R-squared** It's near at the first model, with a fairly good fit,"
      ]
    },
    {
      "cell_type": "code",
      "execution_count": 32,
      "metadata": {},
      "outputs": [
        {
          "name": "stdout",
          "output_type": "stream",
          "text": [
            "The model assigns with 59.24% probability that an individual who is classified as stunt\n"
          ]
        }
      ],
      "source": [
        "# Given log-odds\n",
        "log_odds = 0.3737\n",
        "odds = math.exp(log_odds)\n",
        "\n",
        "#Calculate probability\n",
        "probability = odds / (1 + odds)\n",
        "\n",
        "print(f\"The model assigns with {probability:.2%} probability that an individual who is classified as stunt\")"
      ]
    },
    {
      "cell_type": "code",
      "execution_count": 33,
      "metadata": {},
      "outputs": [],
      "source": [
        "intercept = 0.3737\n",
        "coefficients = {\n",
        "    'obs_num': -0.0916,\n",
        "    'age_in_months': -0.0007,\n",
        "    'gender': 0.0920,\n",
        "    'district': {0:0, 1: -0.46640, 2: -0.7252, 3: -0.2579, 4:  -0.2169}\n",
        "}\n",
        "\n",
        "# Calculate log-odds\n",
        "log_odds = (intercept\n",
        "            + coefficients['obs_num'] * df_transformed['obs_num']\n",
        "            + coefficients['age_in_months'] * df_transformed['age_in_months']\n",
        "            + coefficients['gender'] * df_transformed['gender']\n",
        "            + df_transformed['district'].map(coefficients['district']))\n",
        "\n",
        "# Convert log-odds to probabilities\n",
        "df_transformed['probability'] = 1 / (1 + np.exp(-log_odds))\n",
        "#print(df_transformed['probability'])"
      ]
    },
    {
      "cell_type": "code",
      "execution_count": 34,
      "metadata": {},
      "outputs": [
        {
          "data": {
            "image/png": "[encoded data removed]",
            "text/plain": [
              "<Figure size 1000x600 with 1 Axes>"
            ]
          },
          "metadata": {},
          "output_type": "display_data"
        }
      ],
      "source": [
        "# Boxplot of probabilities across districts\n",
        "plt.figure(figsize=(10, 6))\n",
        "sns.boxplot(df_transformed.assign(district=df_transformed['district'].map({0: 'Barguna', 1: 'Jessore', 2: 'Khulna', 3: 'Patuakhali', 4: 'Satkhira'})), x='district', y='probability')\n",
        "plt.title('Predicted Probabilities by District')\n",
        "plt.xlabel('District')\n",
        "plt.ylabel('Probability')\n",
        "plt.show()"
      ]
    },
    {
      "cell_type": "markdown",
      "metadata": {},
      "source": [
        "- *District Barguna* appears to have the highest predicted probabilities of stunt overall, suggesting a higher likelihood of stunting for individuals in this district compared to others.\n",
        "- *Districts Khulna and Jessore* have notably lower probabilities, indicating that individuals in these districts are less likely to be predicted as stunted."
      ]
    },
    {
      "cell_type": "code",
      "execution_count": 35,
      "metadata": {},
      "outputs": [
        {
          "name": "stdout",
          "output_type": "stream",
          "text": [
            " Probability of recovery: 34.47%\n"
          ]
        }
      ],
      "source": [
        "new_data = pd.DataFrame({\n",
        "    'weight': [12],            \n",
        "    'age_in_months': [24],     \n",
        "    'gender': [1],             \n",
        "    'district': [2],\n",
        "    'obs_num': [4]            \n",
        "})\n",
        "\n",
        "# Predict the probability of recovery\n",
        "probability = results.predict(new_data)\n",
        "print(f\" Probability of recovery: {probability.iloc[0]:.2%}\")"
      ]
    },
    {
      "cell_type": "code",
      "execution_count": null,
      "metadata": {},
      "outputs": [],
      "source": []
    }
  ],
  "metadata": {
    "colab": {
      "provenance": []
    },
    "kernelspec": {
      "display_name": "Python 3",
      "name": "python3"
    },
    "language_info": {
      "codemirror_mode": {
        "name": "ipython",
        "version": 3
      },
      "file_extension": ".py",
      "mimetype": "text/x-python",
      "name": "python",
      "nbconvert_exporter": "python",
      "pygments_lexer": "ipython3",
      "version": "3.10.6"
    }
  },
  "nbformat": 4,
  "nbformat_minor": 0
}
